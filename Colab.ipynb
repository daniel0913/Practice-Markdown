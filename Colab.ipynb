{
  "nbformat": 4,
  "nbformat_minor": 0,
  "metadata": {
    "colab": {
      "name": "Colab.ipynb",
      "provenance": []
    },
    "kernelspec": {
      "name": "python3",
      "display_name": "Python 3"
    },
    "language_info": {
      "name": "python"
    }
  },
  "cells": [
    {
      "cell_type": "markdown",
      "source": [
        "# Markdown\n",
        "### Open your notebook in Google Colab and save it into the same GitHub Project. You can see an example here.\n",
        "* Create a code cell and print a Python Hello World statement:  print(\"hello world\")\n",
        "* Create a Markdown Cell and add a Title using # and then a statement using plain text. You can looks at the source code for this cell to get an idea of how to use Markdown.\n",
        "* Take some ideas from the Master Markdown GitHub Guide and implement them here.\n",
        "* Download this notebook as a .ipynb file and check into a GitHub Project. You can see an example here."
      ],
      "metadata": {
        "id": "auX8RDiiwyQk"
      }
    },
    {
      "cell_type": "code",
      "source": [
        "print(\"hello world\")"
      ],
      "metadata": {
        "colab": {
          "base_uri": "https://localhost:8080/"
        },
        "id": "TlGTVulPs8VV",
        "outputId": "0d2b7602-9ffd-4f11-e91c-2b8464e2222d"
      },
      "execution_count": 1,
      "outputs": [
        {
          "output_type": "stream",
          "name": "stdout",
          "text": [
            "hello world\n"
          ]
        }
      ]
    }
  ]
}